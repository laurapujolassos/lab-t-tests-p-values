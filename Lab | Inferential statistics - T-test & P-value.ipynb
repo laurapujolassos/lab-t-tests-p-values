{
 "cells": [
  {
   "cell_type": "markdown",
   "id": "27fcf0b5",
   "metadata": {},
   "source": [
    "# Lab | Inferential statistics - T-test & P-value"
   ]
  },
  {
   "cell_type": "markdown",
   "id": "b82c4809",
   "metadata": {},
   "source": [
    "In a packing plant, a machine packs cartons with jars. It is supposed that a new machine will pack faster on the average than the machine currently used. To test that hypothesis, the times it takes each machine to pack ten cartons are recorded. The results, in seconds, are shown in the tables in the file files_for_lab/machine.txt. Assume that there is sufficient evidence to conduct the t test, does the data provide sufficient evidence to show if one machine is better than the other"
   ]
  },
  {
   "cell_type": "code",
   "execution_count": 1,
   "id": "6573392f",
   "metadata": {},
   "outputs": [],
   "source": [
    "import numpy as np\n",
    "import math\n",
    "\n"
   ]
  },
  {
   "cell_type": "code",
   "execution_count": 2,
   "id": "3b608bf2",
   "metadata": {},
   "outputs": [],
   "source": [
    "new_machine = [42.1, 41, 41.3, 41.8, 42.4, 42.8, 43.2, 42.3, 41.8, 42.7]\n",
    "old_machine = [42.7, 43.6, 43.8, 43.3, 42.5, 43.5, 43.1, 41.7, 44, 44.1]"
   ]
  },
  {
   "cell_type": "code",
   "execution_count": 3,
   "id": "a0d33299",
   "metadata": {},
   "outputs": [],
   "source": [
    "n1 = len(new_machine)\n",
    "n2 = len(old_machine)"
   ]
  },
  {
   "cell_type": "code",
   "execution_count": 6,
   "id": "3f369200",
   "metadata": {},
   "outputs": [],
   "source": [
    "x1_samp_mean = np.mean(new_machine)\n",
    "x2_samp_mean = np.mean(old_machine)\n",
    "s1 = np.std(new_machine)\n",
    "s2 = np.std(old_machine)"
   ]
  },
  {
   "cell_type": "code",
   "execution_count": 7,
   "id": "cb051661",
   "metadata": {},
   "outputs": [],
   "source": [
    "s_p = math.sqrt(((n1 - 1) * s1**2 + (n2 - 1) * s2**2) / (n1 + n2 - 2))\n",
    "t = (x1_samp_mean - x2_samp_mean) / (s_p * math.sqrt(1/n1 + 1/n2))"
   ]
  },
  {
   "cell_type": "code",
   "execution_count": 8,
   "id": "2e93e1cb",
   "metadata": {},
   "outputs": [
    {
     "name": "stdout",
     "output_type": "stream",
     "text": [
      "-3.5809955894645813\n"
     ]
    }
   ],
   "source": [
    "print(t)"
   ]
  },
  {
   "cell_type": "code",
   "execution_count": null,
   "id": "02b81ad9",
   "metadata": {},
   "outputs": [],
   "source": []
  }
 ],
 "metadata": {
  "kernelspec": {
   "display_name": "Python 3 (ipykernel)",
   "language": "python",
   "name": "python3"
  },
  "language_info": {
   "codemirror_mode": {
    "name": "ipython",
    "version": 3
   },
   "file_extension": ".py",
   "mimetype": "text/x-python",
   "name": "python",
   "nbconvert_exporter": "python",
   "pygments_lexer": "ipython3",
   "version": "3.9.12"
  }
 },
 "nbformat": 4,
 "nbformat_minor": 5
}
